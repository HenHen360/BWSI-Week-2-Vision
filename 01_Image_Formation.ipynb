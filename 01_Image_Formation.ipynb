{
 "cells": [
  {
   "cell_type": "markdown",
   "metadata": {},
   "source": [
    "# Pinhole Camera Model Practice Questions"
   ]
  },
  {
   "cell_type": "code",
   "execution_count": 14,
   "metadata": {},
   "outputs": [],
   "source": [
    "import math\n",
    "import numpy as np"
   ]
  },
  {
   "cell_type": "markdown",
   "metadata": {},
   "source": [
    "## Question 1: Perspective Projection"
   ]
  },
  {
   "cell_type": "markdown",
   "metadata": {},
   "source": [
    "A 3D point in the camera coordinate system is given by `p_c = [10, 5, 20]`. \n",
    "The camera has a focal length `f` of 50mm. \n",
    "Calculate the position of the projection of this point on the image plane in meters."
   ]
  },
  {
   "cell_type": "code",
   "execution_count": 9,
   "metadata": {},
   "outputs": [
    {
     "name": "stdout",
     "output_type": "stream",
     "text": [
      "u_m_c:\n",
      "0.025\n",
      "v_m_c:\n",
      "0.0125\n"
     ]
    }
   ],
   "source": [
    "f = 50/1000\n",
    "p_c = [10,5,20]\n",
    "u_m_c=(f)*(p_c[0]/p_c[2])\n",
    "v_m_c=(f)*(p_c[1]/p_c[2])\n",
    "print(\"u_m_c:\")\n",
    "print(u_m_c)\n",
    "print(\"v_m_c:\")\n",
    "print(v_m_c)"
   ]
  },
  {
   "cell_type": "markdown",
   "metadata": {},
   "source": [
    "---"
   ]
  },
  {
   "cell_type": "markdown",
   "metadata": {},
   "source": [
    "## Question 2: Conversion to Pixels"
   ]
  },
  {
   "cell_type": "markdown",
   "metadata": {},
   "source": [
    "Given the projected point from Question 1, convert its coordinates from meters to pixels. \n",
    "Assume the following intrinsic parameters: \n",
    "- `s_x` = 800 pixels/meter\n",
    "- `s_y` = 800 pixels/meter\n",
    "- `o_x` = 320 pixels\n",
    "- `o_y` = 240 pixels\n",
    "What are the pixel coordinates `(u^I, v^I)`?"
   ]
  },
  {
   "cell_type": "code",
   "execution_count": 12,
   "metadata": {},
   "outputs": [
    {
     "name": "stdout",
     "output_type": "stream",
     "text": [
      "u_I:\n",
      "340.0\n",
      "v_I:\n",
      "250.0\n"
     ]
    }
   ],
   "source": [
    "s_x=800\n",
    "s_y=800\n",
    "o_x=320\n",
    "o_y=240\n",
    "u_I=(s_x*u_m_c+o_x)\n",
    "v_I=(s_y*v_m_c+o_y)\n",
    "print(\"u_I:\")\n",
    "print(u_I)\n",
    "print(\"v_I:\")\n",
    "print(v_I)"
   ]
  },
  {
   "cell_type": "markdown",
   "metadata": {},
   "source": [
    "---"
   ]
  },
  {
   "cell_type": "markdown",
   "metadata": {},
   "source": [
    "## Question 3: Intrinsic Matrix"
   ]
  },
  {
   "cell_type": "markdown",
   "metadata": {},
   "source": [
    "Construct the intrinsic calibration matrix `K` using the parameters from Question 2, assuming no skew (`s_θ = 0`)."
   ]
  },
  {
   "cell_type": "code",
   "execution_count": 17,
   "metadata": {},
   "outputs": [
    {
     "name": "stdout",
     "output_type": "stream",
     "text": [
      "[[ 40.   0. 320.]\n",
      " [  0.  40. 240.]\n",
      " [  0.   0.   1.]]\n"
     ]
    }
   ],
   "source": [
    "s_theta = 0\n",
    "matrix = [[s_x*f,s_theta*f,o_x], [0,s_y*f,o_y],[0,0,1]]\n",
    "K = np.array(matrix)\n",
    "print(K)"
   ]
  },
  {
   "cell_type": "markdown",
   "metadata": {},
   "source": [
    "---"
   ]
  },
  {
   "cell_type": "markdown",
   "metadata": {},
   "source": [
    "## Question 4: Point Projection with Known Pose"
   ]
  },
  {
   "cell_type": "markdown",
   "metadata": {},
   "source": [
    "A point in the world frame is given by `p_w = [2, 3, 50]`. The camera's pose `T_w^c` is given by an identity rotation matrix and a translation vector `t_w^c = [0, 0, 10]`. [cite_start]Using the intrinsic matrix `K` from Question 3, calculate the pixel coordinates of the projected point. [cite: 14, 16, 17]"
   ]
  },
  {
   "cell_type": "code",
   "execution_count": null,
   "metadata": {},
   "outputs": [
    {
     "name": "stdout",
     "output_type": "stream",
     "text": [
      "u_I:  [321.33333333]\n",
      "v_I:  [242.]\n"
     ]
    }
   ],
   "source": [
    "p_w = np.array([[2],[3],[50],[1]])\n",
    "T_w_c = np.array([[0],[0],[10]])\n",
    "R_w_c = np.eye(3)\n",
    "extrinsic = np.hstack([R_w_c, T_w_c])\n",
    "two = (K @ extrinsic)\n",
    "two.shape\n",
    "two_p = (two @ p_w)\n",
    "u_I = two_p[0]/two_p[2]\n",
    "v_I = two_p[1]/two_p[2]\n",
    "print(\"u_I: \", u_I)\n",
    "print(\"v_I: \", v_I)"
   ]
  },
  {
   "cell_type": "markdown",
   "metadata": {},
   "source": [
    "---"
   ]
  },
  {
   "cell_type": "markdown",
   "metadata": {},
   "source": [
    "## Question 5: Radial Distortion"
   ]
  },
  {
   "cell_type": "markdown",
   "metadata": {},
   "source": [
    "A point is projected on the image plane at `(u_distort^I, v_distort^I) = (400, 350)` including radial distortion. Given distortion coefficients `a1 = 0.0001` and `a2 = 0.0000002` and the principal point `(o_x, o_y) = (320, 240)`, calculate the corrected pixel coordinates `(u^I, v^I)`."
   ]
  },
  {
   "cell_type": "code",
   "execution_count": 74,
   "metadata": {},
   "outputs": [
    {
     "name": "stdout",
     "output_type": "stream",
     "text": [
      "u_I_corrected:  6024.0\n",
      "v_I_corrected:  8083.0\n"
     ]
    }
   ],
   "source": [
    "a1 = 0.0001\n",
    "a2 = 0.0000002\n",
    "u_I = 400\n",
    "v_I = 350\n",
    "r_2 = (u_I-o_x)**2+(v_I-o_y)**2\n",
    "u_I_corrected = (1+a1*r_2+a2*r_2**2)*(u_I-o_x)+o_x\n",
    "v_I_corrected = (1+a1*r_2+a2*r_2**2)*(v_I-o_y)+o_y\n",
    "print(\"u_I_corrected: \",u_I_corrected)\n",
    "print(\"v_I_corrected: \",v_I_corrected)"
   ]
  }
 ],
 "metadata": {
  "kernelspec": {
   "display_name": "py3",
   "language": "python",
   "name": "python3"
  },
  "language_info": {
   "codemirror_mode": {
    "name": "ipython",
    "version": 3
   },
   "file_extension": ".py",
   "mimetype": "text/x-python",
   "name": "python",
   "nbconvert_exporter": "python",
   "pygments_lexer": "ipython3",
   "version": "3.12.7"
  }
 },
 "nbformat": 4,
 "nbformat_minor": 4
}
